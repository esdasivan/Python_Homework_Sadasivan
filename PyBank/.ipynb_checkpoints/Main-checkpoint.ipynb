{
 "cells": [
  {
   "cell_type": "code",
   "execution_count": 1,
   "id": "6ee85f02-5f70-4ba4-aecb-c8c7f7d7a851",
   "metadata": {},
   "outputs": [
    {
     "name": "stdout",
     "output_type": "stream",
     "text": [
      "Financial Analysis\n",
      "---------------------\n",
      "total months: 86\n",
      "total: 38382578\n",
      "average change: $-2315.12\n",
      "greatest increase in profits:Feb-2012 $1926159\n",
      "greatest decrease in profits:Sep-2013 $-2196167\n"
     ]
    }
   ],
   "source": [
    "import csv\n",
    "from pathlib import Path\n",
    "budget_path = Path(\"budget_data.csv\")\n",
    "\n",
    "budget_list =[]\n",
    "\n",
    "with open(budget_path) as budget_file:\n",
    "    reader=csv.reader(budget_file)\n",
    "    \n",
    "    next (reader)\n",
    "    \n",
    "    for n in reader:\n",
    "        budget_list.append(n)\n",
    "    \n",
    "count= 0\n",
    "total = 0\n",
    "max =0\n",
    "min = 0\n",
    "previous_mo=0\n",
    "                    \n",
    "profitable_months = []\n",
    "unprofitable_months = []\n",
    "pnl=[]\n",
    "month_list=[]\n",
    "MoM_change=[]\n",
    "\n",
    "\n",
    "for n in  budget_list:\n",
    "    pnl.append(n[1])\n",
    "    \n",
    "for n in budget_list:\n",
    "    month_list.append(n[0])\n",
    "\n",
    "for n in pnl:\n",
    "    total += int(n)\n",
    "    count +=1\n",
    "    if previous_mo==0:\n",
    "        month_change = 0\n",
    "    else:\n",
    "        month_change = int(n)-previous_mo\n",
    "    MoM_change.append(month_change)\n",
    "    previous_mo = int(n)\n",
    "\n",
    "sum_change = sum(MoM_change)\n",
    "count_change=len(MoM_change)-1\n",
    "average_change = sum_change/count_change\n",
    "largest_increase = 0\n",
    "largest_decrease = 0\n",
    "\n",
    "for n in MoM_change:\n",
    "    if n > 0 and largest_increase == 0:\n",
    "        largest_increase = n\n",
    "    elif largest_increase < n:\n",
    "        largest_increase = n\n",
    "    elif n < 0 and largest_decrease == 0:\n",
    "        largest_decrease = n\n",
    "    elif largest_decrease > n:\n",
    "        largest_decrease = n\n",
    "\n",
    "month_increase_index = MoM_change.index(largest_increase)\n",
    "month_decrease_index = MoM_change.index(largest_decrease)\n",
    "\n",
    "largest_profit_month = month_list[month_increase_index]\n",
    "largest_loss_month=month_list[month_decrease_index]\n",
    "\n",
    "print(\"Financial Analysis\")\n",
    "print(\"---------------------\")\n",
    "print(f\"total months: {count}\")\n",
    "print(f\"total: {total}\")\n",
    "print(f\"average change: ${round(average_change,2)}\")\n",
    "print(f\"greatest increase in profits:{largest_profit_month} ${largest_increase}\")\n",
    "print(f\"greatest decrease in profits:{largest_loss_month} ${largest_decrease}\")\n"
   ]
  },
  {
   "cell_type": "code",
   "execution_count": null,
   "id": "5025bd75-7258-491f-ba88-87b629500ff5",
   "metadata": {},
   "outputs": [],
   "source": []
  }
 ],
 "metadata": {
  "kernelspec": {
   "display_name": "Python 3 (ipykernel)",
   "language": "python",
   "name": "python3"
  },
  "language_info": {
   "codemirror_mode": {
    "name": "ipython",
    "version": 3
   },
   "file_extension": ".py",
   "mimetype": "text/x-python",
   "name": "python",
   "nbconvert_exporter": "python",
   "pygments_lexer": "ipython3",
   "version": "3.9.7"
  }
 },
 "nbformat": 4,
 "nbformat_minor": 5
}
